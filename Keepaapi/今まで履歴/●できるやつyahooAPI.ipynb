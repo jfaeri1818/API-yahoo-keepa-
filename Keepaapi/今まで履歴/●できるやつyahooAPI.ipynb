{
 "cells": [
  {
   "cell_type": "code",
   "execution_count": 5,
   "id": "0c4c876e-cf8b-462f-9fe6-bf0ade2ce6a9",
   "metadata": {},
   "outputs": [
    {
     "ename": "ModuleNotFoundError",
     "evalue": "No module named 'requests'",
     "output_type": "error",
     "traceback": [
      "\u001b[31m---------------------------------------------------------------------------\u001b[39m",
      "\u001b[31mModuleNotFoundError\u001b[39m                       Traceback (most recent call last)",
      "\u001b[36mCell\u001b[39m\u001b[36m \u001b[39m\u001b[32mIn[5]\u001b[39m\u001b[32m, line 1\u001b[39m\n\u001b[32m----> \u001b[39m\u001b[32m1\u001b[39m \u001b[38;5;28;01mimport\u001b[39;00m\u001b[38;5;250m \u001b[39m\u001b[34;01mrequests\u001b[39;00m\n\u001b[32m      2\u001b[39m \u001b[38;5;28;01mimport\u001b[39;00m\u001b[38;5;250m \u001b[39m\u001b[34;01mpandas\u001b[39;00m\u001b[38;5;250m \u001b[39m\u001b[38;5;28;01mas\u001b[39;00m\u001b[38;5;250m \u001b[39m\u001b[34;01mpd\u001b[39;00m\n\u001b[32m      3\u001b[39m \u001b[38;5;28;01mimport\u001b[39;00m\u001b[38;5;250m \u001b[39m\u001b[34;01mtime\u001b[39;00m\n",
      "\u001b[31mModuleNotFoundError\u001b[39m: No module named 'requests'"
     ]
    }
   ],
   "source": [
    "import requests\n",
    "import pandas as pd\n",
    "import time\n",
    "\n",
    "# 🌸 Yahoo!ショッピング 商品検索API（V3）\n",
    "API_URL = \"https://shopping.yahooapis.jp/ShoppingWebService/V3/itemSearch\"\n",
    "APP_ID = \"dj00aiZpPXlkOGd5bDlUcTlWRyZzPWNvbnN1bWVyc2VjcmV0Jng9MmE-\"  # あなたのClient ID\n",
    "\n",
    "# 🌷 検索設定\n",
    "SELLER_ID = \"ishibashi\"   # 東急ハンズYahoo!店\n",
    "RESULTS_PER_CALL = 50      # 1回で取得できる最大件数\n",
    "TOTAL_ITEMS = 2000         # 目標取得件数\n",
    "CALLS = TOTAL_ITEMS // RESULTS_PER_CALL\n",
    "\n",
    "all_rows = []\n",
    "\n",
    "print(\"🔍 Yahoo!ショッピングAPIから商品情報を取得中...\")\n",
    "\n",
    "for i in range(CALLS):\n",
    "    start = i * RESULTS_PER_CALL + 1\n",
    "    params = {\n",
    "        \"appid\": APP_ID,\n",
    "        \"seller_id\": SELLER_ID,\n",
    "        \"price_from\": 100,\n",
    "        \"price_to\": 100000,\n",
    "        \"results\": RESULTS_PER_CALL,\n",
    "        \"start\": start,\n",
    "        \"sort\": \"-score\",      # おすすめ順\n",
    "        \"in_stock\": \"true\",\n",
    "        \"condition\": \"new\"\n",
    "    }\n",
    "\n",
    "    try:\n",
    "        response = requests.get(API_URL, params=params, timeout=10)\n",
    "        data = response.json()\n",
    "        hits = data.get(\"hits\", [])\n",
    "        if not hits:\n",
    "            print(f\"⚠️ {i+1}ページ目に商品なし。\")\n",
    "            break\n",
    "\n",
    "        for h in hits:\n",
    "            jan = h.get(\"janCode\") or \"\"\n",
    "            price = h.get(\"price\") or \"\"\n",
    "            name = h.get(\"name\") or \"\"\n",
    "            url = h.get(\"url\") or \"\"\n",
    "            all_rows.append([jan, price, name, url])\n",
    "\n",
    "        print(f\"✅ {i+1}ページ目完了（{len(all_rows)}件）\")\n",
    "\n",
    "        time.sleep(0.5)  # 💡 API負荷軽減のため少し待機\n",
    "\n",
    "    except Exception as e:\n",
    "        print(f\"❌ エラー: {e}\")\n",
    "        time.sleep(5)\n",
    "\n",
    "# 🌼 DataFrameに変換してExcel出力\n",
    "df = pd.DataFrame(all_rows, columns=[\"JANコード\", \"価格\", \"商品名\", \"商品URL\"])\n",
    "output_path = \"handsnet_2000items.xlsx\"\n",
    "df.to_excel(output_path, index=False)\n",
    "\n",
    "print(\"🎉 完了！Excelファイルを作成しました。\")\n",
    "print(f\"📁 保存先: {output_path}\")\n"
   ]
  }
 ],
 "metadata": {
  "kernelspec": {
   "display_name": "Python 3",
   "language": "python",
   "name": "python3"
  },
  "language_info": {
   "codemirror_mode": {
    "name": "ipython",
    "version": 3
   },
   "file_extension": ".py",
   "mimetype": "text/x-python",
   "name": "python",
   "nbconvert_exporter": "python",
   "pygments_lexer": "ipython3",
   "version": "3.11.9"
  }
 },
 "nbformat": 4,
 "nbformat_minor": 5
}
